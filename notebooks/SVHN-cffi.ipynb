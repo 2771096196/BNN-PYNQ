{
 "cells": [
  {
   "cell_type": "markdown",
   "metadata": {
    "deletable": true,
    "editable": true
   },
   "source": [
    "# BNN on Pynq\n",
    "\n",
    "This notebook covers how to use Binary Neural Networks on Pynq. \n",
    "It shows an example of image recognition with a binarized neural inspired at VGG-16, featuring 6 convolutional layers, 3 Max Pool layers and 3 Fully connected layers\n",
    "\n",
    "## 1. Instantiate a Classifier\n",
    "Creating a classifier will automatically download the correct bitstream onto the device and load the weights trained on the specified dataset. By default there are three sets of weights to choose from - this example uses the StreetView house number set."
   ]
  },
  {
   "cell_type": "code",
   "execution_count": 2,
   "metadata": {
    "collapsed": false,
    "deletable": true,
    "editable": true
   },
   "outputs": [
    {
     "data": {
      "text/plain": [
       "'2017/2/21 9:44:8 +57864'"
      ]
     },
     "execution_count": 2,
     "metadata": {},
     "output_type": "execute_result"
    }
   ],
   "source": [
    "from pynq import Overlay\n",
    "import cffi \n",
    "ROOT_BNN = \"/opt/python3.6/lib/python3.6/site-packages/bnn/\" \n",
    "ol = Overlay(ROOT_BNN+\"/bitstreams/cnv-pynq-pynq.bit\")\n",
    "ol.download()\n",
    "ffi = cffi.FFI()\n",
    "ROOT_BNN = \"/opt/python3.6/lib/python3.6/site-packages/bnn/\" \n",
    "ffi.cdef(\"\"\"\n",
    "void load_parameters(const char* path);\n",
    "unsigned int inference(const char* path, unsigned int results[64], int number_class, float *usecPerImage);\n",
    "unsigned int* inference_multiple(const char* path, int number_class, int *image_number, float *usecPerImage, unsigned int enable_detail);\n",
    "void free_results(unsigned int * result);\n",
    "void deinit();\n",
    "\"\"\"\n",
    ")\n",
    "NN_hw=ffi.dlopen(ROOT_BNN+\"/libraries/python_hw-cnv-pynq.so\")\n",
    "NN_sw=ffi.dlopen(ROOT_BNN+\"/libraries/python_sw-cnv-pynq.so\")\n",
    "ol.bitstream.timestamp"
   ]
  },
  {
   "cell_type": "markdown",
   "metadata": {
    "deletable": true,
    "editable": true
   },
   "source": [
    "# 2. Download the network parameters\n",
    "The parameters of the network are downloaded in the Programmable logic memory, storing the trained weights on the Street view house number dataset. "
   ]
  },
  {
   "cell_type": "code",
   "execution_count": 3,
   "metadata": {
    "collapsed": false,
    "deletable": true,
    "editable": true
   },
   "outputs": [],
   "source": [
    "NN_hw.load_parameters(bytes(ROOT_BNN+\"/params/streetview\", encoding='utf-8'))"
   ]
  },
  {
   "cell_type": "markdown",
   "metadata": {
    "deletable": true,
    "editable": true
   },
   "source": [
    "# 3. Open image to be classified\n",
    "The image to be classified is loaded, showd and resized to meet the BNN requirements (scaled to 32x32 pixels)"
   ]
  },
  {
   "cell_type": "code",
   "execution_count": 4,
   "metadata": {
    "collapsed": false,
    "deletable": true,
    "editable": true
   },
   "outputs": [
    {
     "data": {
      "image/png": "[encoded data removed]",
      "text/plain": [
       "<PIL.JpegImagePlugin.JpegImageFile image mode=RGB size=251x201 at 0x2F87F670>"
      ]
     },
     "execution_count": 4,
     "metadata": {},
     "output_type": "execute_result"
    }
   ],
   "source": [
    "from PIL import Image\n",
    "import numpy as np\n",
    "im = Image.open('/home/xilinx/bnn/data/svhn/1.jpg')\n",
    "# We resize the downloaded image to be 32x32 pixels as expected from the BNN\n",
    "im"
   ]
  },
  {
   "cell_type": "code",
   "execution_count": 5,
   "metadata": {
    "collapsed": false,
    "deletable": true,
    "editable": true
   },
   "outputs": [
    {
     "data": {
      "image/png": "[encoded data removed]",
      "text/plain": [
       "<PIL.Image.Image image mode=RGBA size=32x32 at 0x2B9759F0>"
      ]
     },
     "execution_count": 5,
     "metadata": {},
     "output_type": "execute_result"
    }
   ],
   "source": [
    "im.thumbnail((32, 32), Image.ANTIALIAS)\n",
    "background = Image.new('RGBA', (32, 32), (0, 0, 0, 0))\n",
    "background.paste(\n",
    "    im, (int((32 - im.size[0]) / 2), int((32 - im.size[1]) / 2))\n",
    ")\n",
    "# We write the image into the format used in the Cifar-10 dataset for code compatibility \n",
    "im = (np.array(background))\n",
    "r = im[:,:,0].flatten()\n",
    "g = im[:,:,1].flatten()\n",
    "b = im[:,:,2].flatten()\n",
    "label = [1]\n",
    "\n",
    "out = np.array(list(label) + list(r) + list(g) + list(b),np.uint8)\n",
    "out.tofile(\"/home/xilinx/out.bin\")\n",
    "background"
   ]
  },
  {
   "cell_type": "markdown",
   "metadata": {
    "deletable": true,
    "editable": true
   },
   "source": [
    "# 4. Loading classes description\n",
    "We load the class description, that links the class identified from the BNN and the actual meaning of that class"
   ]
  },
  {
   "cell_type": "code",
   "execution_count": 6,
   "metadata": {
    "collapsed": false,
    "deletable": true,
    "editable": true
   },
   "outputs": [],
   "source": [
    "import os\n",
    "with open (os.path.join(ROOT_BNN+\"/params/streetview/\", \"classes.txt\")) as f:\n",
    "    classes = [c.strip() for c in f.readlines()]"
   ]
  },
  {
   "cell_type": "markdown",
   "metadata": {
    "deletable": true,
    "editable": true
   },
   "source": [
    "# 5. Launching BNN in hardware\n",
    "The image is passed in the PL and the inference is performed"
   ]
  },
  {
   "cell_type": "code",
   "execution_count": 10,
   "metadata": {
    "collapsed": false,
    "deletable": true,
    "editable": true
   },
   "outputs": [
    {
     "name": "stdout",
     "output_type": "stream",
     "text": [
      "Packing and interleaving CIFAR-10 inputs...\n",
      "Running prebuilt CIFAR-10 test for 1 images...\n",
      "Inference took 2249 microseconds, 2249 usec per image\n",
      "Classification rate: 444.642 images per second\n",
      "\n",
      "Identified number: 1\n"
     ]
    }
   ],
   "source": [
    "from wurlitzer import pipes\n",
    "with pipes() as (stdout, stderr):\n",
    "    class_out=NN_hw.inference(b\"/home/xilinx/out.bin\",ffi.NULL,10, ffi.NULL) \n",
    "print(stdout.read())    \n",
    "print(\"Identified number: {0}\".format(classes[class_out]))"
   ]
  },
  {
   "cell_type": "markdown",
   "metadata": {
    "deletable": true,
    "editable": true
   },
   "source": [
    "# 6. Launching BNN in software\n",
    "The inference on the same image is performed in sofware on the ARM core"
   ]
  },
  {
   "cell_type": "code",
   "execution_count": 12,
   "metadata": {
    "collapsed": false,
    "deletable": true,
    "editable": true
   },
   "outputs": [
    {
     "name": "stdout",
     "output_type": "stream",
     "text": [
      "Packing and interleaving CIFAR-10 inputs...\n",
      "Running prebuilt CIFAR-10 test for 1 images...\n",
      "Inference took 811389 microseconds, 811389 usec per image\n",
      "Classification rate: 1.23245 images per second\n",
      "\n",
      "Identified number: 1\n"
     ]
    }
   ],
   "source": [
    "NN_sw.load_parameters(bytes(ROOT_BNN+\"/params/streetview\", encoding='utf-8'))\n",
    "\n",
    "with pipes() as (stdout, stderr):\n",
    "    class_out=NN_sw.inference(b\"/home/xilinx/out.bin\",ffi.NULL,10, ffi.NULL) \n",
    "print(stdout.read())    \n",
    "print(\"Identified number: {0}\".format(classes[class_out]))"
   ]
  },
  {
   "cell_type": "code",
   "execution_count": null,
   "metadata": {
    "collapsed": true,
    "deletable": true,
    "editable": true
   },
   "outputs": [],
   "source": []
  }
 ],
 "metadata": {
  "kernelspec": {
   "display_name": "Python 3",
   "language": "python",
   "name": "python3"
  },
  "language_info": {
   "codemirror_mode": {
    "name": "ipython",
    "version": 3
   },
   "file_extension": ".py",
   "mimetype": "text/x-python",
   "name": "python",
   "nbconvert_exporter": "python",
   "pygments_lexer": "ipython3",
   "version": "3.6.0"
  }
 },
 "nbformat": 4,
 "nbformat_minor": 1
}
